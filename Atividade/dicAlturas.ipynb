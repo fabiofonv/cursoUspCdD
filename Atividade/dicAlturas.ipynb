{
 "cells": [
  {
   "cell_type": "code",
   "execution_count": 3,
   "metadata": {},
   "outputs": [
    {
     "data": {
      "text/plain": [
       "{'Alemanha': 181,\n",
       " 'Brasil': 170.8,\n",
       " 'Canadá': 174,\n",
       " 'Cuba': 170.2,\n",
       " 'Espanha': 175.62,\n",
       " 'Islândia': 181.7,\n",
       " 'Noruega': 179.5,\n",
       " 'Rússia': 176,\n",
       " 'Suíça': 178.1,\n",
       " 'Vietnã': 165.76}"
      ]
     },
     "execution_count": 3,
     "metadata": {},
     "output_type": "execute_result"
    }
   ],
   "source": [
    "alt_paises = {'Alemanha':   181,\n",
    "              'Brasil':     170.8,\n",
    "              'Canadá':     174,\n",
    "              'Cuba':       170.2,\n",
    "              'Espanha':    175.62,\n",
    "              'Islândia':   181.7,\n",
    "              'Noruega':    179.5,\n",
    "              'Rússia':     176,\n",
    "              'Suíça':      178.1,\n",
    "              'Vietnã':     165.76}\n",
    "type(alt_paises)\n",
    "alt_paises"
   ]
  },
  {
   "cell_type": "code",
   "execution_count": 12,
   "metadata": {},
   "outputs": [
    {
     "name": "stdout",
     "output_type": "stream",
     "text": [
      "73.58700000000002\n"
     ]
    }
   ],
   "source": [
    "print(f'{(alt_paises['Alemanha'] / 100) * 72.7 - 58}')"
   ]
  },
  {
   "cell_type": "code",
   "execution_count": 13,
   "metadata": {},
   "outputs": [
    {
     "name": "stdout",
     "output_type": "stream",
     "text": [
      "66.17160000000001\n"
     ]
    }
   ],
   "source": [
    "print(f'{(alt_paises['Brasil'] / 100) * 72.7 - 58}')"
   ]
  },
  {
   "cell_type": "code",
   "execution_count": 16,
   "metadata": {},
   "outputs": [
    {
     "name": "stdout",
     "output_type": "stream",
     "text": [
      "73.58700000000002\n",
      "66.17160000000001\n",
      "68.498\n",
      "65.7354\n",
      "69.67574\n",
      "74.0959\n",
      "72.4965\n",
      "69.95200000000001\n",
      "71.4787\n",
      "62.50752\n"
     ]
    }
   ],
   "source": [
    "for i in alt_paises:\n",
    "    #print(alt_paises[i])\n",
    "    print(f'{(alt_paises[i] / 100) * 72.7 - 58}')"
   ]
  },
  {
   "cell_type": "code",
   "execution_count": null,
   "metadata": {},
   "outputs": [],
   "source": []
  }
 ],
 "metadata": {
  "kernelspec": {
   "display_name": "Python 3",
   "language": "python",
   "name": "python3"
  },
  "language_info": {
   "codemirror_mode": {
    "name": "ipython",
    "version": 3
   },
   "file_extension": ".py",
   "mimetype": "text/x-python",
   "name": "python",
   "nbconvert_exporter": "python",
   "pygments_lexer": "ipython3",
   "version": "3.12.3"
  }
 },
 "nbformat": 4,
 "nbformat_minor": 2
}
