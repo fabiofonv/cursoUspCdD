{
 "cells": [
  {
   "cell_type": "code",
   "execution_count": 2,
   "metadata": {},
   "outputs": [],
   "source": [
    "paises = [['África do Sul', -20.1, 50],\n",
    "          ['Brasil', -14, 44.8],\n",
    "          ['Canadá', -63, 45],\n",
    "          ['Cuba', 0.6, 38.8],\n",
    "          ['Espanha', -30, 47.2],\n",
    "          ['Islândia', -37.9, 30.5],\n",
    "          ['Nepal', -26, 46],\n",
    "          ['Rússia', -67.8, 45.4],\n",
    "          ['Síria', -1, 49.7],\n",
    "          ['Vietnã', -6.1, 42.7]]"
   ]
  },
  {
   "cell_type": "code",
   "execution_count": 3,
   "metadata": {},
   "outputs": [
    {
     "data": {
      "text/plain": [
       "-4.180000000000007"
      ]
     },
     "execution_count": 3,
     "metadata": {},
     "output_type": "execute_result"
    }
   ],
   "source": [
    "min_temp = paises[0][1]\n",
    "min_temp_f = min_temp * 1.8 + 32\n",
    "min_temp_f"
   ]
  },
  {
   "cell_type": "code",
   "execution_count": 4,
   "metadata": {},
   "outputs": [
    {
     "data": {
      "text/plain": [
       "6.800000000000001"
      ]
     },
     "execution_count": 4,
     "metadata": {},
     "output_type": "execute_result"
    }
   ],
   "source": [
    "min_temp = paises[1][1]\n",
    "min_temp_f = min_temp * 1.8 + 32\n",
    "min_temp_f"
   ]
  },
  {
   "cell_type": "code",
   "execution_count": 5,
   "metadata": {},
   "outputs": [
    {
     "data": {
      "text/plain": [
       "-81.4"
      ]
     },
     "execution_count": 5,
     "metadata": {},
     "output_type": "execute_result"
    }
   ],
   "source": [
    "min_temp = paises[2][1]\n",
    "min_temp_f = min_temp * 1.8 + 32\n",
    "min_temp_f"
   ]
  },
  {
   "cell_type": "code",
   "execution_count": 10,
   "metadata": {},
   "outputs": [
    {
     "name": "stdout",
     "output_type": "stream",
     "text": [
      "África do Sul - Min: -4.18 F°, Máx: 122.00 F°\n",
      "Brasil - Min: 6.80 F°, Máx: 112.64 F°\n",
      "Canadá - Min: -81.40 F°, Máx: 113.00 F°\n",
      "Cuba - Min: 33.08 F°, Máx: 101.84 F°\n",
      "Espanha - Min: -22.00 F°, Máx: 116.96 F°\n",
      "Islândia - Min: -36.22 F°, Máx: 86.90 F°\n",
      "Nepal - Min: -14.80 F°, Máx: 114.80 F°\n",
      "Rússia - Min: -90.04 F°, Máx: 113.72 F°\n",
      "Síria - Min: 30.20 F°, Máx: 121.46 F°\n",
      "Vietnã - Min: 21.02 F°, Máx: 108.86 F°\n"
     ]
    }
   ],
   "source": [
    "for i in range(len(paises)):\n",
    "    min_temp = paises[i][1]\n",
    "    max_temp = paises[i][2]\n",
    "    min_temp_f = min_temp * 1.8 + 32\n",
    "    max_temp_f = max_temp * 1.8 + 32\n",
    "    print(f'{paises[i][0]} - Min: {min_temp_f:.2f} F°, Máx: {max_temp_f:.2f} F°')"
   ]
  },
  {
   "cell_type": "code",
   "execution_count": null,
   "metadata": {},
   "outputs": [],
   "source": []
  }
 ],
 "metadata": {
  "kernelspec": {
   "display_name": "Python 3",
   "language": "python",
   "name": "python3"
  },
  "language_info": {
   "codemirror_mode": {
    "name": "ipython",
    "version": 3
   },
   "file_extension": ".py",
   "mimetype": "text/x-python",
   "name": "python",
   "nbconvert_exporter": "python",
   "pygments_lexer": "ipython3",
   "version": "3.12.3"
  }
 },
 "nbformat": 4,
 "nbformat_minor": 2
}
