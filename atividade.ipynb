{
 "cells": [
  {
   "cell_type": "code",
   "execution_count": 1,
   "id": "b38746cd-ef38-4558-bd2f-026c20407ad2",
   "metadata": {},
   "outputs": [],
   "source": [
    "import pandas as pd"
   ]
  },
  {
   "cell_type": "markdown",
   "id": "60a5957f",
   "metadata": {},
   "source": [
    "1 - ESTRUTURAS DE DADOS"
   ]
  },
  {
   "cell_type": "markdown",
   "id": "226a9401",
   "metadata": {},
   "source": [
    "1.1 Lista de temperaturas"
   ]
  },
  {
   "cell_type": "code",
   "execution_count": null,
   "id": "2a14deee-5a40-4494-b04f-0f95d843062c",
   "metadata": {},
   "outputs": [],
   "source": [
    "paises = [['África do Sul', -20.1, 50],\n",
    "          ['Brasil', -14, 44.8],\n",
    "          ['Canadá', -63, 45],\n",
    "          ['Cuba', 0.6, 38.8],\n",
    "          ['Espanha', -30, 47.2],\n",
    "          ['Islândia', -37.9, 30.5],\n",
    "          ['Nepal', -26, 46],\n",
    "          ['Rússia', -67.8, 45.4],\n",
    "          ['Síria', -1, 49.7],\n",
    "          ['Vietnã', -6.1, 42.7]]"
   ]
  },
  {
   "cell_type": "code",
   "execution_count": null,
   "id": "33e0687b",
   "metadata": {},
   "outputs": [],
   "source": [
    "min_temp = paises[0][1]\n",
    "min_temp_f = min_temp * 1.8 + 32\n",
    "min_temp_f"
   ]
  },
  {
   "cell_type": "code",
   "execution_count": null,
   "id": "f154654c",
   "metadata": {},
   "outputs": [],
   "source": [
    "min_temp = paises[1][1]\n",
    "min_temp_f = min_temp * 1.8 + 32\n",
    "min_temp_f"
   ]
  },
  {
   "cell_type": "code",
   "execution_count": null,
   "id": "1a0577a3",
   "metadata": {},
   "outputs": [],
   "source": [
    "min_temp = paises[2][1]\n",
    "min_temp_f = min_temp * 1.8 + 32\n",
    "min_temp_f"
   ]
  },
  {
   "cell_type": "code",
   "execution_count": null,
   "id": "fba2aab3",
   "metadata": {},
   "outputs": [],
   "source": [
    "for i in range(len(paises)):\n",
    "    min_temp = paises[i][1]\n",
    "    max_temp = paises[i][2]\n",
    "    min_temp_f = min_temp * 1.8 + 32\n",
    "    max_temp_f = max_temp * 1.8 + 32\n",
    "    print(f'{paises[i][0]} - Min: {min_temp_f:.2f} F°, Máx: {max_temp_f:.2f} F°')"
   ]
  },
  {
   "cell_type": "markdown",
   "id": "f79d8bd9",
   "metadata": {},
   "source": [
    "1.2 Alturas"
   ]
  },
  {
   "cell_type": "code",
   "execution_count": 2,
   "id": "657e27be",
   "metadata": {},
   "outputs": [
    {
     "data": {
      "text/plain": [
       "{'Alemanha': 181,\n",
       " 'Brasil': 170.8,\n",
       " 'Canadá': 174,\n",
       " 'Cuba': 170.2,\n",
       " 'Espanha': 175.62,\n",
       " 'Islândia': 181.7,\n",
       " 'Noruega': 179.5,\n",
       " 'Rússia': 176,\n",
       " 'Suíça': 178.1,\n",
       " 'Vietnã': 165.76}"
      ]
     },
     "execution_count": 2,
     "metadata": {},
     "output_type": "execute_result"
    }
   ],
   "source": [
    "alt_paises = {'Alemanha':   181,\n",
    "              'Brasil':     170.8,\n",
    "              'Canadá':     174,\n",
    "              'Cuba':       170.2,\n",
    "              'Espanha':    175.62,\n",
    "              'Islândia':   181.7,\n",
    "              'Noruega':    179.5,\n",
    "              'Rússia':     176,\n",
    "              'Suíça':      178.1,\n",
    "              'Vietnã':     165.76}\n",
    "type(alt_paises)\n",
    "alt_paises"
   ]
  },
  {
   "cell_type": "code",
   "execution_count": 3,
   "id": "aff64078",
   "metadata": {},
   "outputs": [
    {
     "name": "stdout",
     "output_type": "stream",
     "text": [
      "73.58700000000002\n"
     ]
    }
   ],
   "source": [
    "print(f'{(alt_paises['Alemanha'] / 100) * 72.7 - 58}')"
   ]
  },
  {
   "cell_type": "code",
   "execution_count": 4,
   "id": "85c4092a",
   "metadata": {},
   "outputs": [
    {
     "name": "stdout",
     "output_type": "stream",
     "text": [
      "66.17160000000001\n"
     ]
    }
   ],
   "source": [
    "print(f'{(alt_paises['Brasil'] / 100) * 72.7 - 58}')"
   ]
  },
  {
   "cell_type": "code",
   "execution_count": 10,
   "id": "8cc3d69c",
   "metadata": {},
   "outputs": [
    {
     "name": "stdout",
     "output_type": "stream",
     "text": [
      "73.58700000000002\n",
      "66.17160000000001\n",
      "68.498\n",
      "65.7354\n",
      "69.67574\n",
      "74.0959\n",
      "72.4965\n",
      "69.95200000000001\n",
      "71.4787\n",
      "62.50752\n"
     ]
    }
   ],
   "source": [
    "keys = alt_paises.keys()\n",
    "for i in alt_paises:\n",
    "    #print(alt_paises[i])\n",
    "    print(f'{(alt_paises[i] / 100) * 72.7 - 58}')"
   ]
  },
  {
   "cell_type": "markdown",
   "id": "b8050e4b",
   "metadata": {},
   "source": [
    "1.3 Conversão de moedas"
   ]
  },
  {
   "cell_type": "code",
   "execution_count": 14,
   "id": "6184935a",
   "metadata": {},
   "outputs": [],
   "source": [
    "bolsa_pos = [[\"Nova Zelândia\", 15000, \"NZ$\"],\n",
    "             [\"EUA\", 66000/4,\"US$\"],\n",
    "             [\"Alemanha\", 750*12,\"EUR\"]]"
   ]
  },
  {
   "cell_type": "code",
   "execution_count": 22,
   "id": "7859ee00",
   "metadata": {},
   "outputs": [
    {
     "name": "stdout",
     "output_type": "stream",
     "text": [
      "Nova Zelândia - Por hora: 7.21 - Por mês: 1250.00 - Por ano: 15000.00\n",
      "EUA - Por hora: 7.93 - Por mês: 1375.00 - Por ano: 16500.00\n",
      "Alemanha - Por hora: 4.33 - Por mês: 750.00 - Por ano: 9000.00\n"
     ]
    }
   ],
   "source": [
    "for i in range(len(bolsa_pos)):\n",
    "    print(f'{bolsa_pos[i][0]} - Por hora: {bolsa_pos[i][1]/(40*52):.2f} - Por mês: {bolsa_pos[i][1]/12:.2f} - Por ano: {bolsa_pos[i][1]:.2f}')"
   ]
  },
  {
   "cell_type": "markdown",
   "id": "4eb997f8",
   "metadata": {},
   "source": [
    "2 - ESTRUTURAS DE DECISÃO"
   ]
  },
  {
   "cell_type": "markdown",
   "id": "e27ed429",
   "metadata": {},
   "source": [
    "2.1 "
   ]
  },
  {
   "cell_type": "code",
   "execution_count": null,
   "id": "b2141750",
   "metadata": {},
   "outputs": [],
   "source": []
  }
 ],
 "metadata": {
  "kernelspec": {
   "display_name": "Python 3",
   "language": "python",
   "name": "python3"
  },
  "language_info": {
   "codemirror_mode": {
    "name": "ipython",
    "version": 3
   },
   "file_extension": ".py",
   "mimetype": "text/x-python",
   "name": "python",
   "nbconvert_exporter": "python",
   "pygments_lexer": "ipython3",
   "version": "3.12.3"
  }
 },
 "nbformat": 4,
 "nbformat_minor": 5
}
