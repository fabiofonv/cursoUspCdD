{
 "cells": [
  {
   "cell_type": "code",
   "execution_count": 10,
   "id": "b38746cd-ef38-4558-bd2f-026c20407ad2",
   "metadata": {},
   "outputs": [],
   "source": [
    "import pandas as pd\n",
    "import numpy as np\n",
    "import seaborn as sns\n",
    "from sklearn.model_selection import train_test_split, cross_val_score\n",
    "from sklearn.linear_model import LogisticRegression\n",
    "from sklearn.metrics import confusion_matrix, accuracy_score, ConfusionMatrixDisplay, r2_score\n",
    "import matplotlib.pyplot as plt"
   ]
  },
  {
   "cell_type": "markdown",
   "id": "60a5957f",
   "metadata": {},
   "source": [
    "1 - ESTRUTURAS DE DADOS"
   ]
  },
  {
   "cell_type": "markdown",
   "id": "226a9401",
   "metadata": {},
   "source": [
    "1.1 Lista de temperaturas"
   ]
  },
  {
   "cell_type": "code",
   "execution_count": 2,
   "id": "2a14deee-5a40-4494-b04f-0f95d843062c",
   "metadata": {},
   "outputs": [],
   "source": [
    "paises = [['África do Sul', -20.1, 50],\n",
    "          ['Brasil', -14, 44.8],\n",
    "          ['Canadá', -63, 45],\n",
    "          ['Cuba', 0.6, 38.8],\n",
    "          ['Espanha', -30, 47.2],\n",
    "          ['Islândia', -37.9, 30.5],\n",
    "          ['Nepal', -26, 46],\n",
    "          ['Rússia', -67.8, 45.4],\n",
    "          ['Síria', -1, 49.7],\n",
    "          ['Vietnã', -6.1, 42.7]]"
   ]
  },
  {
   "cell_type": "code",
   "execution_count": 3,
   "id": "33e0687b",
   "metadata": {},
   "outputs": [
    {
     "data": {
      "text/plain": [
       "-4.180000000000007"
      ]
     },
     "execution_count": 3,
     "metadata": {},
     "output_type": "execute_result"
    }
   ],
   "source": [
    "min_temp = paises[0][1]\n",
    "min_temp_f = min_temp * 1.8 + 32\n",
    "min_temp_f"
   ]
  },
  {
   "cell_type": "code",
   "execution_count": 4,
   "id": "f154654c",
   "metadata": {},
   "outputs": [
    {
     "data": {
      "text/plain": [
       "6.800000000000001"
      ]
     },
     "execution_count": 4,
     "metadata": {},
     "output_type": "execute_result"
    }
   ],
   "source": [
    "min_temp = paises[1][1]\n",
    "min_temp_f = min_temp * 1.8 + 32\n",
    "min_temp_f"
   ]
  },
  {
   "cell_type": "code",
   "execution_count": 5,
   "id": "1a0577a3",
   "metadata": {},
   "outputs": [
    {
     "data": {
      "text/plain": [
       "-81.4"
      ]
     },
     "execution_count": 5,
     "metadata": {},
     "output_type": "execute_result"
    }
   ],
   "source": [
    "min_temp = paises[2][1]\n",
    "min_temp_f = min_temp * 1.8 + 32\n",
    "min_temp_f"
   ]
  },
  {
   "cell_type": "code",
   "execution_count": 6,
   "id": "fba2aab3",
   "metadata": {},
   "outputs": [
    {
     "name": "stdout",
     "output_type": "stream",
     "text": [
      "África do Sul - Min: -4.18 F°, Máx: 122.00 F°\n",
      "Brasil - Min: 6.80 F°, Máx: 112.64 F°\n",
      "Canadá - Min: -81.40 F°, Máx: 113.00 F°\n",
      "Cuba - Min: 33.08 F°, Máx: 101.84 F°\n",
      "Espanha - Min: -22.00 F°, Máx: 116.96 F°\n",
      "Islândia - Min: -36.22 F°, Máx: 86.90 F°\n",
      "Nepal - Min: -14.80 F°, Máx: 114.80 F°\n",
      "Rússia - Min: -90.04 F°, Máx: 113.72 F°\n",
      "Síria - Min: 30.20 F°, Máx: 121.46 F°\n",
      "Vietnã - Min: 21.02 F°, Máx: 108.86 F°\n"
     ]
    }
   ],
   "source": [
    "for i in range(len(paises)):\n",
    "    min_temp = paises[i][1]\n",
    "    max_temp = paises[i][2]\n",
    "    min_temp_f = min_temp * 1.8 + 32\n",
    "    max_temp_f = max_temp * 1.8 + 32\n",
    "    print(f'{paises[i][0]} - Min: {min_temp_f:.2f} F°, Máx: {max_temp_f:.2f} F°')"
   ]
  },
  {
   "cell_type": "markdown",
   "id": "f79d8bd9",
   "metadata": {},
   "source": [
    "1.2 Alturas"
   ]
  },
  {
   "cell_type": "code",
   "execution_count": 7,
   "id": "657e27be",
   "metadata": {},
   "outputs": [
    {
     "data": {
      "text/plain": [
       "{'Alemanha': 181,\n",
       " 'Brasil': 170.8,\n",
       " 'Canadá': 174,\n",
       " 'Cuba': 170.2,\n",
       " 'Espanha': 175.62,\n",
       " 'Islândia': 181.7,\n",
       " 'Noruega': 179.5,\n",
       " 'Rússia': 176,\n",
       " 'Suíça': 178.1,\n",
       " 'Vietnã': 165.76}"
      ]
     },
     "execution_count": 7,
     "metadata": {},
     "output_type": "execute_result"
    }
   ],
   "source": [
    "alt_paises = {'Alemanha':   181,\n",
    "              'Brasil':     170.8,\n",
    "              'Canadá':     174,\n",
    "              'Cuba':       170.2,\n",
    "              'Espanha':    175.62,\n",
    "              'Islândia':   181.7,\n",
    "              'Noruega':    179.5,\n",
    "              'Rússia':     176,\n",
    "              'Suíça':      178.1,\n",
    "              'Vietnã':     165.76}\n",
    "type(alt_paises)\n",
    "alt_paises"
   ]
  },
  {
   "cell_type": "code",
   "execution_count": 8,
   "id": "aff64078",
   "metadata": {},
   "outputs": [
    {
     "name": "stdout",
     "output_type": "stream",
     "text": [
      "73.58700000000002\n"
     ]
    }
   ],
   "source": [
    "print(f'{(alt_paises['Alemanha'] / 100) * 72.7 - 58}')"
   ]
  },
  {
   "cell_type": "code",
   "execution_count": 9,
   "id": "85c4092a",
   "metadata": {},
   "outputs": [
    {
     "name": "stdout",
     "output_type": "stream",
     "text": [
      "66.17160000000001\n"
     ]
    }
   ],
   "source": [
    "print(f'{(alt_paises['Brasil'] / 100) * 72.7 - 58}')"
   ]
  },
  {
   "cell_type": "code",
   "execution_count": 10,
   "id": "8cc3d69c",
   "metadata": {},
   "outputs": [
    {
     "name": "stdout",
     "output_type": "stream",
     "text": [
      "73.58700000000002\n",
      "66.17160000000001\n",
      "68.498\n",
      "65.7354\n",
      "69.67574\n",
      "74.0959\n",
      "72.4965\n",
      "69.95200000000001\n",
      "71.4787\n",
      "62.50752\n"
     ]
    }
   ],
   "source": [
    "keys = alt_paises.keys()\n",
    "for i in alt_paises:\n",
    "    #print(alt_paises[i])\n",
    "    print(f'{(alt_paises[i] / 100) * 72.7 - 58}')"
   ]
  },
  {
   "cell_type": "markdown",
   "id": "b8050e4b",
   "metadata": {},
   "source": [
    "1.3 Conversão de moedas"
   ]
  },
  {
   "cell_type": "code",
   "execution_count": 11,
   "id": "6184935a",
   "metadata": {},
   "outputs": [],
   "source": [
    "bolsa_pos = [[\"Nova Zelândia\", 15000, \"NZ$\"],\n",
    "             [\"EUA\", 66000/4,\"US$\"],\n",
    "             [\"Alemanha\", 750*12,\"EUR\"]]"
   ]
  },
  {
   "cell_type": "code",
   "execution_count": 12,
   "id": "7859ee00",
   "metadata": {},
   "outputs": [
    {
     "name": "stdout",
     "output_type": "stream",
     "text": [
      "Nova Zelândia - Por hora: 7.21 - Por mês: 1250.00 - Por ano: 15000.00\n",
      "EUA - Por hora: 7.93 - Por mês: 1375.00 - Por ano: 16500.00\n",
      "Alemanha - Por hora: 4.33 - Por mês: 750.00 - Por ano: 9000.00\n"
     ]
    }
   ],
   "source": [
    "for i in range(len(bolsa_pos)):\n",
    "    print(f'{bolsa_pos[i][0]} - Por hora: {bolsa_pos[i][1]/(40*52):.2f} - Por mês: {bolsa_pos[i][1]/12:.2f} - Por ano: {bolsa_pos[i][1]:.2f}')"
   ]
  },
  {
   "cell_type": "markdown",
   "id": "4eb997f8",
   "metadata": {},
   "source": [
    "2 - ESTRUTURAS DE DECISÃO"
   ]
  },
  {
   "cell_type": "markdown",
   "id": "e27ed429",
   "metadata": {},
   "source": [
    "2.1 Temperatura"
   ]
  },
  {
   "cell_type": "code",
   "execution_count": 13,
   "id": "b2141750",
   "metadata": {},
   "outputs": [
    {
     "name": "stdout",
     "output_type": "stream",
     "text": [
      "Está quente.\n",
      "Está quente.\n",
      "Está quente.\n",
      "Está frio.\n",
      "Está quente.\n",
      "Está frio.\n",
      "Está quente.\n",
      "Está quente.\n",
      "Está quente.\n",
      "Está quente.\n"
     ]
    }
   ],
   "source": [
    "t = 40\n",
    "for i in range(len(paises)):\n",
    "    if(paises[i][2] >= t):\n",
    "        print(\"Está quente.\")\n",
    "    elif(paises[i][1] <= t):\n",
    "        print(\"Está frio.\")"
   ]
  },
  {
   "cell_type": "markdown",
   "id": "cc4db0ce",
   "metadata": {},
   "source": [
    "2.2 Combustíveis"
   ]
  },
  {
   "cell_type": "code",
   "execution_count": 14,
   "id": "4aa58132",
   "metadata": {},
   "outputs": [
    {
     "name": "stdout",
     "output_type": "stream",
     "text": [
      "60\n",
      "108.3\n"
     ]
    }
   ],
   "source": [
    "descs = [[\"Álcool\",     1.9, 0.97, 0.95],\n",
    "         [\"Gasolina\",   2.5, 0.96, 0.94],]\n",
    "\n",
    "qtd = int(input(\"Quantidade de combustível: \"))\n",
    "tipo = \"\"\n",
    "preco = 0\n",
    "\n",
    "while(tipo != 'a' and tipo != 'g'):\n",
    "    tipo = input(\"Tipo de combustível (A-álcool | G-gasolina\")\n",
    "    tipo = tipo.lower()\n",
    "\n",
    "print(qtd)\n",
    "\n",
    "if(tipo == 'a'):\n",
    "    alc = descs[0]\n",
    "    if(qtd <= 20):\n",
    "        preco = qtd * alc[1] * alc[2]\n",
    "    elif(qtd > 20):\n",
    "        preco = qtd * alc[1] * alc[3]\n",
    "if(tipo == 'g'):\n",
    "    gas = descs[1]\n",
    "    if(qtd <= 20):\n",
    "        preco = qtd * gas[1] * gas[2]\n",
    "    elif(qtd > 20):\n",
    "        preco = qtd * gas[1] * gas[3]\n",
    "\n",
    "print(preco)"
   ]
  },
  {
   "cell_type": "markdown",
   "id": "f7994e05",
   "metadata": {},
   "source": [
    "2.3 Frutas"
   ]
  },
  {
   "cell_type": "code",
   "execution_count": 15,
   "id": "905577d8",
   "metadata": {},
   "outputs": [
    {
     "name": "stdout",
     "output_type": "stream",
     "text": [
      "Preço total: R$118.98\n"
     ]
    }
   ],
   "source": [
    "frutas = [[\"Morango\",   2.5, 2.2],\n",
    "          [\"Maçã\",      1.8, 1.5]]\n",
    "\n",
    "qtdMor = int(input(\"Digite a quantidade de morangos: \"))\n",
    "qtdMac = int(input(\"Digite a quantidade de maçãs: \"))\n",
    "qtdTot = qtdMor + qtdMac\n",
    "precoTot, precoMor, precoMac = 0, 0, 0\n",
    "\n",
    "if(qtdMor <= 5):\n",
    "    precoMor = frutas[0][1] * qtdMor\n",
    "elif(qtdMor > 5):\n",
    "    precoMor = frutas[0][2] * qtdMor\n",
    "\n",
    "if(qtdMac <= 5):\n",
    "    precoMac = frutas[1][1] * qtdMac\n",
    "elif(qtdMac > 5):\n",
    "    precoMac = frutas[1][2] * qtdMac\n",
    "\n",
    "precoTot = precoMor + precoMac\n",
    "\n",
    "if(qtdTot > 8 or precoTot >25):\n",
    "    precoTot *= 0.9\n",
    "\n",
    "print(f'Preço total: R${precoTot:.2f}')"
   ]
  },
  {
   "cell_type": "markdown",
   "id": "73fc792f",
   "metadata": {},
   "source": [
    "3 - ESTRUTURAS DE REPETIÇÃO"
   ]
  },
  {
   "cell_type": "markdown",
   "id": "561f6104",
   "metadata": {},
   "source": [
    "3.1 - Tabuada"
   ]
  },
  {
   "cell_type": "code",
   "execution_count": 16,
   "id": "c89433d8",
   "metadata": {},
   "outputs": [
    {
     "name": "stdout",
     "output_type": "stream",
     "text": [
      "Tabuada de 5:\n",
      "5 X 1 = 5\n",
      "5 X 2 = 10\n",
      "5 X 3 = 15\n",
      "5 X 4 = 20\n",
      "5 X 5 = 25\n",
      "5 X 6 = 30\n",
      "5 X 7 = 35\n",
      "5 X 8 = 40\n",
      "5 X 9 = 45\n",
      "5 X 10 = 50\n"
     ]
    }
   ],
   "source": [
    "num = int(input(\"Digite um número de 1 a 10: \"))\n",
    "\n",
    "print(f'Tabuada de {num}:')\n",
    "for i in range(1,11):\n",
    "    print(f'{num} X {i} = {num*i}')"
   ]
  },
  {
   "cell_type": "markdown",
   "id": "0bb55878",
   "metadata": {},
   "source": [
    "3.2 - Alturas e temps"
   ]
  },
  {
   "cell_type": "code",
   "execution_count": 17,
   "id": "69650300",
   "metadata": {},
   "outputs": [
    {
     "name": "stdout",
     "output_type": "stream",
     "text": [
      "['África do Sul', -20.1, 50]\n",
      "['Brasil', -14, 44.8]\n",
      "['Canadá', -63, 45]\n",
      "['Cuba', 0.6, 38.8]\n",
      "['Espanha', -30, 47.2]\n",
      "['Islândia', -37.9, 30.5]\n",
      "['Nepal', -26, 46]\n",
      "['Rússia', -67.8, 45.4]\n",
      "['Síria', -1, 49.7]\n",
      "['Vietnã', -6.1, 42.7]\n",
      "181\n",
      "170.8\n",
      "174\n",
      "170.2\n",
      "175.62\n",
      "181.7\n",
      "179.5\n",
      "176\n",
      "178.1\n",
      "165.76\n"
     ]
    }
   ],
   "source": [
    "for i in range(len(paises)):\n",
    "    print(paises[i])\n",
    "\n",
    "for i in alt_paises:\n",
    "    print(alt_paises[i])"
   ]
  },
  {
   "cell_type": "markdown",
   "id": "7dd00836",
   "metadata": {},
   "source": [
    "3.3 - Itens do dict"
   ]
  },
  {
   "cell_type": "code",
   "execution_count": 18,
   "id": "19c6551f",
   "metadata": {},
   "outputs": [
    {
     "name": "stdout",
     "output_type": "stream",
     "text": [
      "Alemanha - 181\n",
      "Brasil - 170.8\n",
      "Canadá - 174\n",
      "Cuba - 170.2\n",
      "Espanha - 175.62\n",
      "Islândia - 181.7\n",
      "Noruega - 179.5\n",
      "Rússia - 176\n",
      "Suíça - 178.1\n",
      "Vietnã - 165.76\n"
     ]
    }
   ],
   "source": [
    "for i in alt_paises.keys():\n",
    "    print(f'{i} - {alt_paises[i]}')"
   ]
  },
  {
   "cell_type": "markdown",
   "id": "82852822",
   "metadata": {},
   "source": [
    "4 - FUNÇÕES"
   ]
  },
  {
   "cell_type": "markdown",
   "id": "49fca5b2",
   "metadata": {},
   "source": [
    "4.1 - Reverso"
   ]
  },
  {
   "cell_type": "code",
   "execution_count": 19,
   "id": "844c337f",
   "metadata": {},
   "outputs": [
    {
     "name": "stdout",
     "output_type": "stream",
     "text": [
      "345\n"
     ]
    }
   ],
   "source": [
    "def reverterNum(num):\n",
    "    numRev = list(str(num))\n",
    "    numRev.reverse()\n",
    "    numRev = int(\"\".join(numRev))\n",
    "    return numRev\n",
    "\n",
    "\n",
    "print(reverterNum(543))\n"
   ]
  },
  {
   "cell_type": "markdown",
   "id": "70ba9715",
   "metadata": {},
   "source": [
    "4.2 - Converter temp"
   ]
  },
  {
   "cell_type": "code",
   "execution_count": 20,
   "id": "b1e509b4",
   "metadata": {},
   "outputs": [
    {
     "data": {
      "text/plain": [
       "5.555555555555555"
      ]
     },
     "execution_count": 20,
     "metadata": {},
     "output_type": "execute_result"
    }
   ],
   "source": [
    "def convTemp(temp, esc):\n",
    "    esc = esc.lower()\n",
    "    # if(esc != \"f\" and esc != \"c\"):\n",
    "    if(esc == \"f\"):\n",
    "        return temp * 1.8 + 32\n",
    "    elif(esc == \"c\"):\n",
    "        return (5/9) * (temp - 32)\n",
    "    else:\n",
    "        return print(\"Escala não válida.\")\n",
    "    \n",
    "temp = int(input(\"Temperatura: \"))\n",
    "esc = input(\"Pra qual unidade quer converter (C-celsius | F-Fahrenheit)\")\n",
    "\n",
    "convTemp(temp, esc)"
   ]
  },
  {
   "cell_type": "markdown",
   "id": "d15bb77b",
   "metadata": {},
   "source": [
    "4.3 - 24h para 12h"
   ]
  },
  {
   "cell_type": "code",
   "execution_count": 21,
   "id": "b4cd60f0",
   "metadata": {},
   "outputs": [
    {
     "name": "stdout",
     "output_type": "stream",
     "text": [
      "11:56 P.M.\n"
     ]
    }
   ],
   "source": [
    "def cnvHr(hr):\n",
    "    indHr = \"\"\n",
    "\n",
    "    if(hr > 12):\n",
    "        hr -= 12\n",
    "        indHr = \"P.M.\"\n",
    "    \n",
    "    return f'{hr}:{min} {indHr}'\n",
    "\n",
    "hra = int(input(\"Horas: \"))\n",
    "min = int(input(\"Minutos: \"))\n",
    "print(cnvHr(hra))\n"
   ]
  },
  {
   "cell_type": "markdown",
   "id": "a26b7e4a",
   "metadata": {},
   "source": [
    "5 - NUMPY"
   ]
  },
  {
   "cell_type": "markdown",
   "id": "aa669a32",
   "metadata": {},
   "source": [
    "5.1 - Matriz"
   ]
  },
  {
   "cell_type": "code",
   "execution_count": 22,
   "id": "4c22fb59",
   "metadata": {},
   "outputs": [
    {
     "data": {
      "text/plain": [
       "array([[-0.75920334,  8.40241557, 11.84800193,  8.65829549, 17.68698361,\n",
       "         5.75438854,  7.47646104,  4.5051824 , 12.89511469, 13.32758585],\n",
       "       [ 7.45685323, 12.68594826, 18.9536826 , 13.52877514,  9.18103021,\n",
       "        13.33037191, 14.69536202,  5.83328964, 17.45999008, 17.22277797],\n",
       "       [ 9.68599296,  9.86658538,  9.54696572, 13.15431374, 11.02081882,\n",
       "         8.97953345, 11.01006511, 12.72503009,  2.7348339 , 11.6804484 ],\n",
       "       [ 0.        , 14.32918378,  9.26614247, 15.13997891, 12.34452429,\n",
       "         3.19778366, 11.01947391, 14.2672814 ,  8.23630401, 10.94731757]])"
      ]
     },
     "execution_count": 22,
     "metadata": {},
     "output_type": "execute_result"
    }
   ],
   "source": [
    "matriz = np.random.normal(10, 5, (4,10))\n",
    "for i in range(4):\n",
    "    if(matriz[i][0] > 12):\n",
    "        matriz[i][0] = 0\n",
    "matriz"
   ]
  },
  {
   "cell_type": "markdown",
   "id": "488ee92a",
   "metadata": {},
   "source": [
    "5.2 - Matriz de peso ideal"
   ]
  },
  {
   "cell_type": "code",
   "execution_count": null,
   "id": "9e50a345",
   "metadata": {},
   "outputs": [
    {
     "name": "stdout",
     "output_type": "stream",
     "text": [
      "106424.9054\n"
     ]
    }
   ],
   "source": [
    "matriz2 = np.array([[187, 176, 155],\n",
    "                    [165, 177, 145],\n",
    "                    [195, 184, 181]])\n",
    "matrizPesosIdeais = np.zeros((3,3))\n",
    "soma = 0\n",
    "\n",
    "for i in range(len(matriz2)):\n",
    "    for j in range(len(matriz2[i])):\n",
    "        matrizPesosIdeais[i][j] = ((matriz2[i][j]/100) ** 2) * 22\n",
    "\n",
    "# Não entendi direito a proposta, mas pelo que entendi foi isso:\n",
    "for i in range(len(matriz2)):\n",
    "    for j in range(len(matriz2[i])):\n",
    "        soma += matriz2[i][j] * matrizPesosIdeais[i][j]\n",
    "\n",
    "print(soma)"
   ]
  },
  {
   "cell_type": "markdown",
   "id": "a902c1bb",
   "metadata": {},
   "source": [
    "5.3 - Multiplicação de matriz"
   ]
  },
  {
   "cell_type": "code",
   "execution_count": null,
   "id": "93e6ab9a",
   "metadata": {},
   "outputs": [
    {
     "name": "stdout",
     "output_type": "stream",
     "text": [
      "[[374 352 310]\n",
      " [330 354 290]\n",
      " [390 368 362]]\n"
     ]
    }
   ],
   "source": [
    "def multMatriz(mtz, num):\n",
    "    for i in range(len(mtz)):\n",
    "        for j in range(len(mtz[i])):\n",
    "            mtz[i][j] *= num\n",
    "    return mtz\n",
    "\n",
    "print(multMatriz(matriz2, 2))"
   ]
  },
  {
   "cell_type": "markdown",
   "id": "4dea4330",
   "metadata": {},
   "source": [
    "6 - PANDAS"
   ]
  },
  {
   "cell_type": "markdown",
   "id": "ab5c032b",
   "metadata": {},
   "source": [
    "6.1 - Médias e desvios padrões"
   ]
  },
  {
   "cell_type": "code",
   "execution_count": 9,
   "id": "2630e0f2",
   "metadata": {},
   "outputs": [
    {
     "data": {
      "text/html": [
       "<div>\n",
       "<style scoped>\n",
       "    .dataframe tbody tr th:only-of-type {\n",
       "        vertical-align: middle;\n",
       "    }\n",
       "\n",
       "    .dataframe tbody tr th {\n",
       "        vertical-align: top;\n",
       "    }\n",
       "\n",
       "    .dataframe thead th {\n",
       "        text-align: right;\n",
       "    }\n",
       "</style>\n",
       "<table border=\"1\" class=\"dataframe\">\n",
       "  <thead>\n",
       "    <tr style=\"text-align: right;\">\n",
       "      <th></th>\n",
       "      <th>datetime</th>\n",
       "      <th>season</th>\n",
       "      <th>holiday</th>\n",
       "      <th>workingday</th>\n",
       "      <th>weather</th>\n",
       "      <th>temp</th>\n",
       "      <th>atemp</th>\n",
       "      <th>humidity</th>\n",
       "      <th>windspeed</th>\n",
       "      <th>casual</th>\n",
       "      <th>registered</th>\n",
       "      <th>count</th>\n",
       "    </tr>\n",
       "  </thead>\n",
       "  <tbody>\n",
       "    <tr>\n",
       "      <th>0</th>\n",
       "      <td>2011-01-01 00:00:00</td>\n",
       "      <td>1</td>\n",
       "      <td>0</td>\n",
       "      <td>0</td>\n",
       "      <td>1</td>\n",
       "      <td>9.84</td>\n",
       "      <td>14.395</td>\n",
       "      <td>81</td>\n",
       "      <td>0.0000</td>\n",
       "      <td>3</td>\n",
       "      <td>13</td>\n",
       "      <td>16</td>\n",
       "    </tr>\n",
       "    <tr>\n",
       "      <th>1</th>\n",
       "      <td>2011-01-01 01:00:00</td>\n",
       "      <td>1</td>\n",
       "      <td>0</td>\n",
       "      <td>0</td>\n",
       "      <td>1</td>\n",
       "      <td>9.02</td>\n",
       "      <td>13.635</td>\n",
       "      <td>80</td>\n",
       "      <td>0.0000</td>\n",
       "      <td>8</td>\n",
       "      <td>32</td>\n",
       "      <td>40</td>\n",
       "    </tr>\n",
       "    <tr>\n",
       "      <th>2</th>\n",
       "      <td>2011-01-01 02:00:00</td>\n",
       "      <td>1</td>\n",
       "      <td>0</td>\n",
       "      <td>0</td>\n",
       "      <td>1</td>\n",
       "      <td>9.02</td>\n",
       "      <td>13.635</td>\n",
       "      <td>80</td>\n",
       "      <td>0.0000</td>\n",
       "      <td>5</td>\n",
       "      <td>27</td>\n",
       "      <td>32</td>\n",
       "    </tr>\n",
       "    <tr>\n",
       "      <th>3</th>\n",
       "      <td>2011-01-01 03:00:00</td>\n",
       "      <td>1</td>\n",
       "      <td>0</td>\n",
       "      <td>0</td>\n",
       "      <td>1</td>\n",
       "      <td>9.84</td>\n",
       "      <td>14.395</td>\n",
       "      <td>75</td>\n",
       "      <td>0.0000</td>\n",
       "      <td>3</td>\n",
       "      <td>10</td>\n",
       "      <td>13</td>\n",
       "    </tr>\n",
       "    <tr>\n",
       "      <th>4</th>\n",
       "      <td>2011-01-01 04:00:00</td>\n",
       "      <td>1</td>\n",
       "      <td>0</td>\n",
       "      <td>0</td>\n",
       "      <td>1</td>\n",
       "      <td>9.84</td>\n",
       "      <td>14.395</td>\n",
       "      <td>75</td>\n",
       "      <td>0.0000</td>\n",
       "      <td>0</td>\n",
       "      <td>1</td>\n",
       "      <td>1</td>\n",
       "    </tr>\n",
       "    <tr>\n",
       "      <th>...</th>\n",
       "      <td>...</td>\n",
       "      <td>...</td>\n",
       "      <td>...</td>\n",
       "      <td>...</td>\n",
       "      <td>...</td>\n",
       "      <td>...</td>\n",
       "      <td>...</td>\n",
       "      <td>...</td>\n",
       "      <td>...</td>\n",
       "      <td>...</td>\n",
       "      <td>...</td>\n",
       "      <td>...</td>\n",
       "    </tr>\n",
       "    <tr>\n",
       "      <th>10881</th>\n",
       "      <td>2012-12-19 19:00:00</td>\n",
       "      <td>4</td>\n",
       "      <td>0</td>\n",
       "      <td>1</td>\n",
       "      <td>1</td>\n",
       "      <td>15.58</td>\n",
       "      <td>19.695</td>\n",
       "      <td>50</td>\n",
       "      <td>26.0027</td>\n",
       "      <td>7</td>\n",
       "      <td>329</td>\n",
       "      <td>336</td>\n",
       "    </tr>\n",
       "    <tr>\n",
       "      <th>10882</th>\n",
       "      <td>2012-12-19 20:00:00</td>\n",
       "      <td>4</td>\n",
       "      <td>0</td>\n",
       "      <td>1</td>\n",
       "      <td>1</td>\n",
       "      <td>14.76</td>\n",
       "      <td>17.425</td>\n",
       "      <td>57</td>\n",
       "      <td>15.0013</td>\n",
       "      <td>10</td>\n",
       "      <td>231</td>\n",
       "      <td>241</td>\n",
       "    </tr>\n",
       "    <tr>\n",
       "      <th>10883</th>\n",
       "      <td>2012-12-19 21:00:00</td>\n",
       "      <td>4</td>\n",
       "      <td>0</td>\n",
       "      <td>1</td>\n",
       "      <td>1</td>\n",
       "      <td>13.94</td>\n",
       "      <td>15.910</td>\n",
       "      <td>61</td>\n",
       "      <td>15.0013</td>\n",
       "      <td>4</td>\n",
       "      <td>164</td>\n",
       "      <td>168</td>\n",
       "    </tr>\n",
       "    <tr>\n",
       "      <th>10884</th>\n",
       "      <td>2012-12-19 22:00:00</td>\n",
       "      <td>4</td>\n",
       "      <td>0</td>\n",
       "      <td>1</td>\n",
       "      <td>1</td>\n",
       "      <td>13.94</td>\n",
       "      <td>17.425</td>\n",
       "      <td>61</td>\n",
       "      <td>6.0032</td>\n",
       "      <td>12</td>\n",
       "      <td>117</td>\n",
       "      <td>129</td>\n",
       "    </tr>\n",
       "    <tr>\n",
       "      <th>10885</th>\n",
       "      <td>2012-12-19 23:00:00</td>\n",
       "      <td>4</td>\n",
       "      <td>0</td>\n",
       "      <td>1</td>\n",
       "      <td>1</td>\n",
       "      <td>13.12</td>\n",
       "      <td>16.665</td>\n",
       "      <td>66</td>\n",
       "      <td>8.9981</td>\n",
       "      <td>4</td>\n",
       "      <td>84</td>\n",
       "      <td>88</td>\n",
       "    </tr>\n",
       "  </tbody>\n",
       "</table>\n",
       "<p>10886 rows × 12 columns</p>\n",
       "</div>"
      ],
      "text/plain": [
       "                  datetime  season  holiday  workingday  weather   temp  \\\n",
       "0      2011-01-01 00:00:00       1        0           0        1   9.84   \n",
       "1      2011-01-01 01:00:00       1        0           0        1   9.02   \n",
       "2      2011-01-01 02:00:00       1        0           0        1   9.02   \n",
       "3      2011-01-01 03:00:00       1        0           0        1   9.84   \n",
       "4      2011-01-01 04:00:00       1        0           0        1   9.84   \n",
       "...                    ...     ...      ...         ...      ...    ...   \n",
       "10881  2012-12-19 19:00:00       4        0           1        1  15.58   \n",
       "10882  2012-12-19 20:00:00       4        0           1        1  14.76   \n",
       "10883  2012-12-19 21:00:00       4        0           1        1  13.94   \n",
       "10884  2012-12-19 22:00:00       4        0           1        1  13.94   \n",
       "10885  2012-12-19 23:00:00       4        0           1        1  13.12   \n",
       "\n",
       "        atemp  humidity  windspeed  casual  registered  count  \n",
       "0      14.395        81     0.0000       3          13     16  \n",
       "1      13.635        80     0.0000       8          32     40  \n",
       "2      13.635        80     0.0000       5          27     32  \n",
       "3      14.395        75     0.0000       3          10     13  \n",
       "4      14.395        75     0.0000       0           1      1  \n",
       "...       ...       ...        ...     ...         ...    ...  \n",
       "10881  19.695        50    26.0027       7         329    336  \n",
       "10882  17.425        57    15.0013      10         231    241  \n",
       "10883  15.910        61    15.0013       4         164    168  \n",
       "10884  17.425        61     6.0032      12         117    129  \n",
       "10885  16.665        66     8.9981       4          84     88  \n",
       "\n",
       "[10886 rows x 12 columns]"
      ]
     },
     "execution_count": 9,
     "metadata": {},
     "output_type": "execute_result"
    }
   ],
   "source": [
    "df_bikes = pd.read_csv(\"bicicletas.csv\")\n",
    "df_bikes"
   ]
  },
  {
   "cell_type": "code",
   "execution_count": 14,
   "id": "7e27bd07",
   "metadata": {},
   "outputs": [
    {
     "name": "stdout",
     "output_type": "stream",
     "text": [
      "Média season: 2.5066 - Média holiday: 0.0286 - DP season: 1.1162 - DP holiday: 0.1666\n"
     ]
    }
   ],
   "source": [
    "def printMeanDP():\n",
    "    meanSeason = df_bikes[\"season\"].mean()\n",
    "    meanHoliday = df_bikes[\"holiday\"].mean()\n",
    "    dpSeason = df_bikes[\"season\"].std()\n",
    "    dpHoliday = df_bikes[\"holiday\"].std()\n",
    "    print(f'Média season: {meanSeason:.4f} - Média holiday: {meanHoliday:.4f} - DP season: {dpSeason:.4f} - DP holiday: {dpHoliday:.4f}')\n",
    "    \n",
    "printMeanDP()"
   ]
  },
  {
   "cell_type": "markdown",
   "id": "f67102c9",
   "metadata": {},
   "source": [
    "6.2 - Separando coluna com condição"
   ]
  },
  {
   "cell_type": "code",
   "execution_count": 63,
   "id": "c30d0af5",
   "metadata": {},
   "outputs": [],
   "source": [
    "df_bikes2 = df_bikes.copy()\n",
    "mes_bikes = []\n",
    "\n",
    "for i in df_bikes2[\"datetime\"]:\n",
    "    mes_bikes.append(int(i[5:7]))\n",
    "\n",
    "df_bikes2[\"month\"] = mes_bikes"
   ]
  },
  {
   "cell_type": "code",
   "execution_count": 64,
   "id": "5ea0aa61",
   "metadata": {},
   "outputs": [
    {
     "data": {
      "text/html": [
       "<div>\n",
       "<style scoped>\n",
       "    .dataframe tbody tr th:only-of-type {\n",
       "        vertical-align: middle;\n",
       "    }\n",
       "\n",
       "    .dataframe tbody tr th {\n",
       "        vertical-align: top;\n",
       "    }\n",
       "\n",
       "    .dataframe thead th {\n",
       "        text-align: right;\n",
       "    }\n",
       "</style>\n",
       "<table border=\"1\" class=\"dataframe\">\n",
       "  <thead>\n",
       "    <tr style=\"text-align: right;\">\n",
       "      <th></th>\n",
       "      <th>datetime</th>\n",
       "      <th>season</th>\n",
       "      <th>holiday</th>\n",
       "      <th>workingday</th>\n",
       "      <th>weather</th>\n",
       "      <th>temp</th>\n",
       "      <th>atemp</th>\n",
       "      <th>humidity</th>\n",
       "      <th>windspeed</th>\n",
       "      <th>casual</th>\n",
       "      <th>registered</th>\n",
       "      <th>count</th>\n",
       "      <th>month</th>\n",
       "    </tr>\n",
       "  </thead>\n",
       "  <tbody>\n",
       "    <tr>\n",
       "      <th>877</th>\n",
       "      <td>2011-03-01 00:00:00</td>\n",
       "      <td>1</td>\n",
       "      <td>0</td>\n",
       "      <td>1</td>\n",
       "      <td>1</td>\n",
       "      <td>12.30</td>\n",
       "      <td>13.635</td>\n",
       "      <td>70</td>\n",
       "      <td>31.0009</td>\n",
       "      <td>0</td>\n",
       "      <td>7</td>\n",
       "      <td>7</td>\n",
       "      <td>3</td>\n",
       "    </tr>\n",
       "    <tr>\n",
       "      <th>878</th>\n",
       "      <td>2011-03-01 01:00:00</td>\n",
       "      <td>1</td>\n",
       "      <td>0</td>\n",
       "      <td>1</td>\n",
       "      <td>1</td>\n",
       "      <td>10.66</td>\n",
       "      <td>11.365</td>\n",
       "      <td>70</td>\n",
       "      <td>23.9994</td>\n",
       "      <td>0</td>\n",
       "      <td>3</td>\n",
       "      <td>3</td>\n",
       "      <td>3</td>\n",
       "    </tr>\n",
       "    <tr>\n",
       "      <th>879</th>\n",
       "      <td>2011-03-01 02:00:00</td>\n",
       "      <td>1</td>\n",
       "      <td>0</td>\n",
       "      <td>1</td>\n",
       "      <td>1</td>\n",
       "      <td>9.84</td>\n",
       "      <td>10.605</td>\n",
       "      <td>65</td>\n",
       "      <td>26.0027</td>\n",
       "      <td>0</td>\n",
       "      <td>4</td>\n",
       "      <td>4</td>\n",
       "      <td>3</td>\n",
       "    </tr>\n",
       "    <tr>\n",
       "      <th>880</th>\n",
       "      <td>2011-03-01 03:00:00</td>\n",
       "      <td>1</td>\n",
       "      <td>0</td>\n",
       "      <td>1</td>\n",
       "      <td>1</td>\n",
       "      <td>9.02</td>\n",
       "      <td>10.605</td>\n",
       "      <td>69</td>\n",
       "      <td>19.0012</td>\n",
       "      <td>0</td>\n",
       "      <td>2</td>\n",
       "      <td>2</td>\n",
       "      <td>3</td>\n",
       "    </tr>\n",
       "    <tr>\n",
       "      <th>881</th>\n",
       "      <td>2011-03-01 04:00:00</td>\n",
       "      <td>1</td>\n",
       "      <td>0</td>\n",
       "      <td>1</td>\n",
       "      <td>1</td>\n",
       "      <td>9.02</td>\n",
       "      <td>10.605</td>\n",
       "      <td>69</td>\n",
       "      <td>16.9979</td>\n",
       "      <td>0</td>\n",
       "      <td>1</td>\n",
       "      <td>1</td>\n",
       "      <td>3</td>\n",
       "    </tr>\n",
       "    <tr>\n",
       "      <th>...</th>\n",
       "      <td>...</td>\n",
       "      <td>...</td>\n",
       "      <td>...</td>\n",
       "      <td>...</td>\n",
       "      <td>...</td>\n",
       "      <td>...</td>\n",
       "      <td>...</td>\n",
       "      <td>...</td>\n",
       "      <td>...</td>\n",
       "      <td>...</td>\n",
       "      <td>...</td>\n",
       "      <td>...</td>\n",
       "      <td>...</td>\n",
       "    </tr>\n",
       "    <tr>\n",
       "      <th>6780</th>\n",
       "      <td>2012-03-19 19:00:00</td>\n",
       "      <td>1</td>\n",
       "      <td>0</td>\n",
       "      <td>1</td>\n",
       "      <td>1</td>\n",
       "      <td>25.42</td>\n",
       "      <td>30.305</td>\n",
       "      <td>61</td>\n",
       "      <td>15.0013</td>\n",
       "      <td>86</td>\n",
       "      <td>463</td>\n",
       "      <td>549</td>\n",
       "      <td>3</td>\n",
       "    </tr>\n",
       "    <tr>\n",
       "      <th>6781</th>\n",
       "      <td>2012-03-19 20:00:00</td>\n",
       "      <td>1</td>\n",
       "      <td>0</td>\n",
       "      <td>1</td>\n",
       "      <td>1</td>\n",
       "      <td>24.60</td>\n",
       "      <td>30.305</td>\n",
       "      <td>64</td>\n",
       "      <td>15.0013</td>\n",
       "      <td>34</td>\n",
       "      <td>296</td>\n",
       "      <td>330</td>\n",
       "      <td>3</td>\n",
       "    </tr>\n",
       "    <tr>\n",
       "      <th>6782</th>\n",
       "      <td>2012-03-19 21:00:00</td>\n",
       "      <td>1</td>\n",
       "      <td>0</td>\n",
       "      <td>1</td>\n",
       "      <td>1</td>\n",
       "      <td>24.60</td>\n",
       "      <td>30.305</td>\n",
       "      <td>64</td>\n",
       "      <td>11.0014</td>\n",
       "      <td>33</td>\n",
       "      <td>190</td>\n",
       "      <td>223</td>\n",
       "      <td>3</td>\n",
       "    </tr>\n",
       "    <tr>\n",
       "      <th>6783</th>\n",
       "      <td>2012-03-19 22:00:00</td>\n",
       "      <td>1</td>\n",
       "      <td>0</td>\n",
       "      <td>1</td>\n",
       "      <td>2</td>\n",
       "      <td>22.96</td>\n",
       "      <td>26.515</td>\n",
       "      <td>73</td>\n",
       "      <td>11.0014</td>\n",
       "      <td>17</td>\n",
       "      <td>131</td>\n",
       "      <td>148</td>\n",
       "      <td>3</td>\n",
       "    </tr>\n",
       "    <tr>\n",
       "      <th>6784</th>\n",
       "      <td>2012-03-19 23:00:00</td>\n",
       "      <td>1</td>\n",
       "      <td>0</td>\n",
       "      <td>1</td>\n",
       "      <td>2</td>\n",
       "      <td>22.96</td>\n",
       "      <td>26.515</td>\n",
       "      <td>78</td>\n",
       "      <td>8.9981</td>\n",
       "      <td>9</td>\n",
       "      <td>45</td>\n",
       "      <td>54</td>\n",
       "      <td>3</td>\n",
       "    </tr>\n",
       "  </tbody>\n",
       "</table>\n",
       "<p>901 rows × 13 columns</p>\n",
       "</div>"
      ],
      "text/plain": [
       "                 datetime  season  holiday  workingday  weather   temp  \\\n",
       "877   2011-03-01 00:00:00       1        0           1        1  12.30   \n",
       "878   2011-03-01 01:00:00       1        0           1        1  10.66   \n",
       "879   2011-03-01 02:00:00       1        0           1        1   9.84   \n",
       "880   2011-03-01 03:00:00       1        0           1        1   9.02   \n",
       "881   2011-03-01 04:00:00       1        0           1        1   9.02   \n",
       "...                   ...     ...      ...         ...      ...    ...   \n",
       "6780  2012-03-19 19:00:00       1        0           1        1  25.42   \n",
       "6781  2012-03-19 20:00:00       1        0           1        1  24.60   \n",
       "6782  2012-03-19 21:00:00       1        0           1        1  24.60   \n",
       "6783  2012-03-19 22:00:00       1        0           1        2  22.96   \n",
       "6784  2012-03-19 23:00:00       1        0           1        2  22.96   \n",
       "\n",
       "       atemp  humidity  windspeed  casual  registered  count  month  \n",
       "877   13.635        70    31.0009       0           7      7      3  \n",
       "878   11.365        70    23.9994       0           3      3      3  \n",
       "879   10.605        65    26.0027       0           4      4      3  \n",
       "880   10.605        69    19.0012       0           2      2      3  \n",
       "881   10.605        69    16.9979       0           1      1      3  \n",
       "...      ...       ...        ...     ...         ...    ...    ...  \n",
       "6780  30.305        61    15.0013      86         463    549      3  \n",
       "6781  30.305        64    15.0013      34         296    330      3  \n",
       "6782  30.305        64    11.0014      33         190    223      3  \n",
       "6783  26.515        73    11.0014      17         131    148      3  \n",
       "6784  26.515        78     8.9981       9          45     54      3  \n",
       "\n",
       "[901 rows x 13 columns]"
      ]
     },
     "execution_count": 64,
     "metadata": {},
     "output_type": "execute_result"
    }
   ],
   "source": [
    "def getMes(df, mes):\n",
    "    dfSep = df[df_bikes2[\"month\"] == mes]\n",
    "    return dfSep\n",
    "\n",
    "dfMes = getMes(df_bikes2, 3)\n",
    "dfMes"
   ]
  },
  {
   "cell_type": "markdown",
   "id": "60457408",
   "metadata": {},
   "source": [
    "6.3 - Histograma e Boxplo"
   ]
  },
  {
   "cell_type": "code",
   "execution_count": 65,
   "id": "dd3a09cf",
   "metadata": {},
   "outputs": [
    {
     "data": {
      "text/plain": [
       "<Axes: >"
      ]
     },
     "execution_count": 65,
     "metadata": {},
     "output_type": "execute_result"
    },
    {
     "data": {
      "image/png": "[encoded data removed]",
      "text/plain": [
       "<Figure size 640x480 with 1 Axes>"
      ]
     },
     "metadata": {},
     "output_type": "display_data"
    }
   ],
   "source": [
    "histTemp = df_bikes2[\"temp\"].hist()\n",
    "histTemp"
   ]
  },
  {
   "cell_type": "code",
   "execution_count": 79,
   "id": "23e6eb0b",
   "metadata": {},
   "outputs": [
    {
     "data": {
      "text/plain": [
       "<Axes: title={'center': 'temp'}, xlabel='month'>"
      ]
     },
     "execution_count": 79,
     "metadata": {},
     "output_type": "execute_result"
    },
    {
     "data": {
      "image/png": "[encoded data removed]",
      "text/plain": [
       "<Figure size 640x480 with 1 Axes>"
      ]
     },
     "metadata": {},
     "output_type": "display_data"
    }
   ],
   "source": [
    "# tempByMonth = df_bikes2.groupby(\"month\")[\"temp\"].mean()\n",
    "bpTempByMonth = df_bikes2.boxplot(column=\"temp\", by=\"month\")\n",
    "bpTempByMonth\n"
   ]
  },
  {
   "cell_type": "markdown",
   "id": "d6f18038",
   "metadata": {},
   "source": [
    "7 - REGRESSÃO"
   ]
  },
  {
   "cell_type": "markdown",
   "id": "a5ee817a",
   "metadata": {},
   "source": [
    "O modelo de regressão é uma técnica estatística e de aprendizado de máquina usada para prever um valor numérico com base em outros dados. Em essência, ele tenta entender e modelar a relação entre uma variável dependente (o valor que queremos prever) e uma ou mais variáveis independentes (os dados de entrada).\n",
    "Como Funciona\n",
    "\n",
    "A regressão calcula uma função matemática que melhor se ajusta aos dados, permitindo que façamos previsões para novos dados. A forma mais simples é a regressão linear, que tenta traçar uma linha reta que melhor representa a relação entre duas variáveis."
   ]
  },
  {
   "cell_type": "code",
   "execution_count": 5,
   "id": "c4a56f5a",
   "metadata": {},
   "outputs": [
    {
     "data": {
      "text/html": [
       "<div>\n",
       "<style scoped>\n",
       "    .dataframe tbody tr th:only-of-type {\n",
       "        vertical-align: middle;\n",
       "    }\n",
       "\n",
       "    .dataframe tbody tr th {\n",
       "        vertical-align: top;\n",
       "    }\n",
       "\n",
       "    .dataframe thead th {\n",
       "        text-align: right;\n",
       "    }\n",
       "</style>\n",
       "<table border=\"1\" class=\"dataframe\">\n",
       "  <thead>\n",
       "    <tr style=\"text-align: right;\">\n",
       "      <th></th>\n",
       "      <th>species</th>\n",
       "      <th>island</th>\n",
       "      <th>bill_length_mm</th>\n",
       "      <th>bill_depth_mm</th>\n",
       "      <th>flipper_length_mm</th>\n",
       "      <th>body_mass_g</th>\n",
       "      <th>sex</th>\n",
       "    </tr>\n",
       "  </thead>\n",
       "  <tbody>\n",
       "    <tr>\n",
       "      <th>0</th>\n",
       "      <td>Adelie</td>\n",
       "      <td>Torgersen</td>\n",
       "      <td>39.1</td>\n",
       "      <td>18.7</td>\n",
       "      <td>181.0</td>\n",
       "      <td>3750.0</td>\n",
       "      <td>Male</td>\n",
       "    </tr>\n",
       "    <tr>\n",
       "      <th>1</th>\n",
       "      <td>Adelie</td>\n",
       "      <td>Torgersen</td>\n",
       "      <td>39.5</td>\n",
       "      <td>17.4</td>\n",
       "      <td>186.0</td>\n",
       "      <td>3800.0</td>\n",
       "      <td>Female</td>\n",
       "    </tr>\n",
       "    <tr>\n",
       "      <th>2</th>\n",
       "      <td>Adelie</td>\n",
       "      <td>Torgersen</td>\n",
       "      <td>40.3</td>\n",
       "      <td>18.0</td>\n",
       "      <td>195.0</td>\n",
       "      <td>3250.0</td>\n",
       "      <td>Female</td>\n",
       "    </tr>\n",
       "    <tr>\n",
       "      <th>3</th>\n",
       "      <td>Adelie</td>\n",
       "      <td>Torgersen</td>\n",
       "      <td>NaN</td>\n",
       "      <td>NaN</td>\n",
       "      <td>NaN</td>\n",
       "      <td>NaN</td>\n",
       "      <td>NaN</td>\n",
       "    </tr>\n",
       "    <tr>\n",
       "      <th>4</th>\n",
       "      <td>Adelie</td>\n",
       "      <td>Torgersen</td>\n",
       "      <td>36.7</td>\n",
       "      <td>19.3</td>\n",
       "      <td>193.0</td>\n",
       "      <td>3450.0</td>\n",
       "      <td>Female</td>\n",
       "    </tr>\n",
       "    <tr>\n",
       "      <th>...</th>\n",
       "      <td>...</td>\n",
       "      <td>...</td>\n",
       "      <td>...</td>\n",
       "      <td>...</td>\n",
       "      <td>...</td>\n",
       "      <td>...</td>\n",
       "      <td>...</td>\n",
       "    </tr>\n",
       "    <tr>\n",
       "      <th>339</th>\n",
       "      <td>Gentoo</td>\n",
       "      <td>Biscoe</td>\n",
       "      <td>NaN</td>\n",
       "      <td>NaN</td>\n",
       "      <td>NaN</td>\n",
       "      <td>NaN</td>\n",
       "      <td>NaN</td>\n",
       "    </tr>\n",
       "    <tr>\n",
       "      <th>340</th>\n",
       "      <td>Gentoo</td>\n",
       "      <td>Biscoe</td>\n",
       "      <td>46.8</td>\n",
       "      <td>14.3</td>\n",
       "      <td>215.0</td>\n",
       "      <td>4850.0</td>\n",
       "      <td>Female</td>\n",
       "    </tr>\n",
       "    <tr>\n",
       "      <th>341</th>\n",
       "      <td>Gentoo</td>\n",
       "      <td>Biscoe</td>\n",
       "      <td>50.4</td>\n",
       "      <td>15.7</td>\n",
       "      <td>222.0</td>\n",
       "      <td>5750.0</td>\n",
       "      <td>Male</td>\n",
       "    </tr>\n",
       "    <tr>\n",
       "      <th>342</th>\n",
       "      <td>Gentoo</td>\n",
       "      <td>Biscoe</td>\n",
       "      <td>45.2</td>\n",
       "      <td>14.8</td>\n",
       "      <td>212.0</td>\n",
       "      <td>5200.0</td>\n",
       "      <td>Female</td>\n",
       "    </tr>\n",
       "    <tr>\n",
       "      <th>343</th>\n",
       "      <td>Gentoo</td>\n",
       "      <td>Biscoe</td>\n",
       "      <td>49.9</td>\n",
       "      <td>16.1</td>\n",
       "      <td>213.0</td>\n",
       "      <td>5400.0</td>\n",
       "      <td>Male</td>\n",
       "    </tr>\n",
       "  </tbody>\n",
       "</table>\n",
       "<p>344 rows × 7 columns</p>\n",
       "</div>"
      ],
      "text/plain": [
       "    species     island  bill_length_mm  bill_depth_mm  flipper_length_mm  \\\n",
       "0    Adelie  Torgersen            39.1           18.7              181.0   \n",
       "1    Adelie  Torgersen            39.5           17.4              186.0   \n",
       "2    Adelie  Torgersen            40.3           18.0              195.0   \n",
       "3    Adelie  Torgersen             NaN            NaN                NaN   \n",
       "4    Adelie  Torgersen            36.7           19.3              193.0   \n",
       "..      ...        ...             ...            ...                ...   \n",
       "339  Gentoo     Biscoe             NaN            NaN                NaN   \n",
       "340  Gentoo     Biscoe            46.8           14.3              215.0   \n",
       "341  Gentoo     Biscoe            50.4           15.7              222.0   \n",
       "342  Gentoo     Biscoe            45.2           14.8              212.0   \n",
       "343  Gentoo     Biscoe            49.9           16.1              213.0   \n",
       "\n",
       "     body_mass_g     sex  \n",
       "0         3750.0    Male  \n",
       "1         3800.0  Female  \n",
       "2         3250.0  Female  \n",
       "3            NaN     NaN  \n",
       "4         3450.0  Female  \n",
       "..           ...     ...  \n",
       "339          NaN     NaN  \n",
       "340       4850.0  Female  \n",
       "341       5750.0    Male  \n",
       "342       5200.0  Female  \n",
       "343       5400.0    Male  \n",
       "\n",
       "[344 rows x 7 columns]"
      ]
     },
     "execution_count": 5,
     "metadata": {},
     "output_type": "execute_result"
    }
   ],
   "source": [
    "ds = sns.load_dataset(\"penguins\")\n",
    "ds"
   ]
  },
  {
   "cell_type": "code",
   "execution_count": 13,
   "id": "a8c07750",
   "metadata": {},
   "outputs": [
    {
     "name": "stdout",
     "output_type": "stream",
     "text": [
      "R²: 0.35\n",
      "Coeficiente da regressão: 0.0\n",
      "Intercepto: 26.9\n"
     ]
    }
   ],
   "source": [
    "X = ds[[\"body_mass_g\"]].fillna(ds[\"body_mass_g\"].mean())\n",
    "y = ds[\"bill_length_mm\"].fillna(ds[\"bill_length_mm\"].mean())\n",
    "\n",
    "model = LinearRegression()\n",
    "model.fit(X, y)\n",
    "\n",
    "y_pred = model.predict(X)\n",
    "\n",
    "r2 = r2_score(y, y_pred)\n",
    "coef = round(model.coef_[0], 2)\n",
    "intercept = round(model.intercept_, 2)\n",
    "\n",
    "print(f'R²: {round(r2, 2)}')\n",
    "print(f'Coeficiente da regressão: {coef}')\n",
    "print(f'Intercepto: {intercept}')"
   ]
  },
  {
   "cell_type": "code",
   "execution_count": null,
   "id": "fd96a801",
   "metadata": {},
   "outputs": [
    {
     "data": {
      "image/png": "[encoded data removed]",
      "text/plain": [
       "<Figure size 1000x600 with 1 Axes>"
      ]
     },
     "metadata": {},
     "output_type": "display_data"
    }
   ],
   "source": [
    "plt.figure(figsize=(10, 6))\n",
    "sns.scatterplot(x=X['body_mass_g'], y=y, label='Dados Reais')\n",
    "plt.plot(X['body_mass_g'], y_pred, color='red', label='Reta de Regressão')\n",
    "plt.title('Regressão Linear - Comprimento do bico em relação ao peso corporal do pinguim')\n",
    "plt.xlabel('Peso corporal (g)')\n",
    "plt.ylabel('Comprimento do Bico (mm)')\n",
    "plt.legend()\n",
    "plt.show()"
   ]
  },
  {
   "cell_type": "markdown",
   "id": "a43e5d1b",
   "metadata": {},
   "source": [
    "8 - CLASSIFICAÇÃO"
   ]
  },
  {
   "cell_type": "markdown",
   "id": "c2bbceac",
   "metadata": {},
   "source": []
  },
  {
   "cell_type": "code",
   "execution_count": null,
   "id": "33f90a3d",
   "metadata": {},
   "outputs": [],
   "source": []
  },
  {
   "cell_type": "markdown",
   "id": "726b0ef5",
   "metadata": {},
   "source": [
    "9 - AGRUPAMENTO"
   ]
  }
 ],
 "metadata": {
  "kernelspec": {
   "display_name": "Python 3",
   "language": "python",
   "name": "python3"
  },
  "language_info": {
   "codemirror_mode": {
    "name": "ipython",
    "version": 3
   },
   "file_extension": ".py",
   "mimetype": "text/x-python",
   "name": "python",
   "nbconvert_exporter": "python",
   "pygments_lexer": "ipython3",
   "version": "3.12.3"
  }
 },
 "nbformat": 4,
 "nbformat_minor": 5
}
